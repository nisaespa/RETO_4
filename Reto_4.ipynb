{
 "cells": [
  {
   "cell_type": "markdown",
   "metadata": {},
   "source": [
    "# RETO 4"
   ]
  },
  {
   "cell_type": "markdown",
   "metadata": {},
   "source": [
    "## Punto 1"
   ]
  },
  {
   "cell_type": "code",
   "execution_count": 2,
   "metadata": {},
   "outputs": [
    {
     "name": "stdout",
     "output_type": "stream",
     "text": [
      "El número entero dado no corresponde a una vocal minúscula\n"
     ]
    }
   ],
   "source": [
    "numero_entero = int(input(\"Escriba un número entero: \")) # Pedir número entero, por eso con int\n",
    "if numero_entero >= 97 and numero_entero <= 122: # Sí el número se encuentra entre 97 y 122 es de letras minusculas\n",
    "    if numero_entero == 97 or numero_entero == 101 or numero_entero == 105 or numero_entero == 111 or numero_entero == 117: # Sí el número es 97, 101, 105, 111 o 117 es una vocal minuscula, se utiliza or ya que puede ser cualquiera verdadera\n",
    "        print(\"El número entero dado corresponde a una vocal minúscula\")\n",
    "    else: # Sí no sería una consonante minuscula, es decirque no es vocal minuscula\n",
    "        print(\"El número entero dado no corresponde a una vocal minúscula\")\n",
    "else: # No es letra minúscula\n",
    "    print(\"El número entero dado no corresponde a una vocal minúscula\")"
   ]
  },
  {
   "cell_type": "markdown",
   "metadata": {},
   "source": [
    "## Punto 2"
   ]
  },
  {
   "cell_type": "code",
   "execution_count": 6,
   "metadata": {},
   "outputs": [
    {
     "name": "stdout",
     "output_type": "stream",
     "text": [
      "El código ASCII es par\n"
     ]
    }
   ],
   "source": [
    "cadena = input(\"Ingrese una cadena de longitud 1: \") # Pedir cadena\n",
    "ascci = ord(cadena) # El código en ASCCI de la cadena de longitud 1\n",
    "if ascci % 2 == 0: # Formula para saber si el código es par\n",
    "    print(\"El código ASCII es par\")\n",
    "if ascci % 2 != 0: # Formula para saber si el código es impar\n",
    "    print(\"El código ASCII es impar\")\n"
   ]
  },
  {
   "cell_type": "markdown",
   "metadata": {},
   "source": [
    "## Punto 3"
   ]
  },
  {
   "cell_type": "code",
   "execution_count": 14,
   "metadata": {},
   "outputs": [
    {
     "name": "stdout",
     "output_type": "stream",
     "text": [
      "asdasd no es un dígito.\n"
     ]
    }
   ],
   "source": [
    "caracter = input(\"Ingrese un carácter: \") # Pedir caracter\n",
    "# Utilizando isdigit para saber si el caracter es un dígito o no\n",
    "if caracter.isdigit(): # Sí es verdadero, entonces es un dígito\n",
    "    print(caracter , \"es un digito\")\n",
    "else: # Sí no, entonces\n",
    "    print(caracter , \"no es un digito\")\n"
   ]
  },
  {
   "cell_type": "markdown",
   "metadata": {},
   "source": [
    "## Punto 4"
   ]
  },
  {
   "cell_type": "code",
   "execution_count": 19,
   "metadata": {},
   "outputs": [
    {
     "name": "stdout",
     "output_type": "stream",
     "text": [
      "El número 0.0 es el neutro para la suma\n"
     ]
    }
   ],
   "source": [
    "numero_real = float(input(\"Escriba un número: \")) # Pedir número real, por eso con float\n",
    "if numero_real == 0: # Sí el número es igual que 0, entonces\n",
    "    print(\"El número\", numero_real, \"es el neutro para la suma\")\n",
    "if numero_real > 0: # Sí el número es mayor que 0 es decir positivo, entonces\n",
    "    print(\"El número\", numero_real, \"es positivo\")\n",
    "if numero_real < 0: # Sí el número es menor que 0 es decir negativo, entonces\n",
    "    print(\"El número\", numero_real, \"es negativo\")"
   ]
  },
  {
   "cell_type": "markdown",
   "metadata": {},
   "source": [
    "## Punto 5"
   ]
  },
  {
   "cell_type": "code",
   "execution_count": 28,
   "metadata": {},
   "outputs": [
    {
     "name": "stdout",
     "output_type": "stream",
     "text": [
      "El punto está fuera del círculo\n"
     ]
    }
   ],
   "source": [
    "# Se piden los valores en flotante ya que pueden contener decimales y pueden ser negativos\n",
    "# Pedir el centro (x,y) y el radio\n",
    "x_centro = float(input(\"Ingrese la coordenada del centro en el eje x: \")) \n",
    "y_centro = float(input(\"Ingrese la coordenada del centro en el eje y: \")) \n",
    "radio = float(input(\"Ingrese el radio del circulo: \")) \n",
    "# Pedir el punto (x,y)\n",
    "x_punto = float(input(\"Ingrese la coordenada x del punto: \")) \n",
    "y_punto = float(input(\"Ingrese la coordenada y del punto: \")) \n",
    "# Formula para evaluar si el punto está dentro del círculo\n",
    "distancia_del_centro = ((x_punto - x_centro)**2 + (y_punto - y_centro)**2)**0.5\n",
    "if distancia_del_centro <= radio: # Sí está entonces\n",
    "    print(\"El punto está dentro del círculo\")\n",
    "else: # Sí no está entonces\n",
    "    print(\"El punto está fuera del círculo\")\n"
   ]
  },
  {
   "cell_type": "markdown",
   "metadata": {},
   "source": [
    "## Punto 6 "
   ]
  },
  {
   "cell_type": "code",
   "execution_count": 24,
   "metadata": {},
   "outputs": [
    {
     "name": "stdout",
     "output_type": "stream",
     "text": [
      "Con esas longitudes no se puede formar un triangulo\n"
     ]
    }
   ],
   "source": [
    "# Pedir las longitudes en flotante, ya que pueden contener decimales\n",
    "longitud_uno = float(input(\"Ingrese la primer longitud: \"))\n",
    "longitud_dos = float(input(\"Ingrese la segunda longitud: \"))\n",
    "longitud_tres = float(input(\"Ingrese la tercera longitud: \"))\n",
    "# Sí la suma de dos longitudes es mayor a la otra, aplicandola en todos los casos, entonces es un tríangulo\n",
    "if longitud_uno + longitud_dos > longitud_tres and longitud_uno + longitud_tres > longitud_dos and longitud_dos + longitud_tres > longitud_uno: # Con and ya que todas se deben cumplir\n",
    "    print(\"Con esas tres longitudes se puede formar un triangulo\")\n",
    "# Sí no entonces\n",
    "else: \n",
    "    print(\"Con esas longitudes no se puede formar un triangulo\")"
   ]
  }
 ],
 "metadata": {
  "kernelspec": {
   "display_name": "Python 3",
   "language": "python",
   "name": "python3"
  },
  "language_info": {
   "codemirror_mode": {
    "name": "ipython",
    "version": 3
   },
   "file_extension": ".py",
   "mimetype": "text/x-python",
   "name": "python",
   "nbconvert_exporter": "python",
   "pygments_lexer": "ipython3",
   "version": "3.12.0"
  }
 },
 "nbformat": 4,
 "nbformat_minor": 2
}
